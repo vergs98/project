{
 "cells": [
  {
   "cell_type": "code",
   "execution_count": 27,
   "metadata": {},
   "outputs": [],
   "source": [
    "import json\n",
    "import pandas as pd \n",
    "import numpy as np \n",
    "import matplotlib.pyplot as plt \n",
    "import seaborn as sns \n",
    "from sklearn.impute import KNNImputer\n",
    "\n",
    "\n",
    "np.random.seed(123)\n",
    "sns.set_style('darkgrid')\n",
    "pd.set_option('display.max_colwidth', None)"
   ]
  },
  {
   "cell_type": "code",
   "execution_count": 15,
   "metadata": {},
   "outputs": [],
   "source": [
    "#definizione di una funzione per leggere le colonne (abbastanza inutile)\n",
    "\n",
    "def describe_column(meta):\n",
    "    \"\"\"\n",
    "    Utility function for describing a dataset column (see below for usage)\n",
    "    \"\"\"\n",
    "    def f(x):\n",
    "        d = pd.Series(name=x.name, dtype=object)\n",
    "        m = next(m for m in meta if m['name'] == x.name)\n",
    "        d['Type'] = m['type']\n",
    "        d['#NaN'] = x.isna().sum()\n",
    "        d['Description'] = m['desc']\n",
    "        if m['type'] == 'categorical':\n",
    "            counts = x.dropna().map(dict(enumerate(m['cats']))).value_counts().sort_index()\n",
    "            d['Statistics'] = ', '.join(f'{c}({n})' for c, n in counts.items())\n",
    "        elif m['type'] == 'real' or m['type'] == 'integer':\n",
    "            stats = x.dropna().agg(['mean', 'std', 'min', 'max'])\n",
    "            d['Statistics'] = ', '.join(f'{s}={v :.1f}' for s, v in stats.items())\n",
    "        elif m['type'] == 'boolean':\n",
    "            counts = x.dropna().astype(bool).value_counts().sort_index()\n",
    "            d['Statistics'] = ', '.join(f'{c}({n})' for c, n in counts.items())\n",
    "        else:\n",
    "            d['Statistics'] = f'#unique={x.nunique()}'\n",
    "        return d\n",
    "    return f\n",
    "\n",
    "#definizione di una funzione per leggere i dati statistici di un df (abbastanza inutile)\n",
    "\n",
    "def describe_data(data, meta):\n",
    "    desc = data.apply(describe_column(meta)).T\n",
    "    desc = desc.style.set_properties(**{'text-align': 'left'})\n",
    "    desc = desc.set_table_styles([ dict(selector='th', props=[('text-align', 'left')])])\n",
    "    return desc \n",
    "\n",
    "#definizione \n",
    "def root_mean_squared_log_error(y_true, y_pred):\n",
    "    # Alternatively: sklearn.metrics.mean_squared_log_error(y_true, y_pred) ** 0.5\n",
    "    assert (y_true >= 0).all() \n",
    "    assert (y_pred >= 0).all()\n",
    "    log_error = np.log1p(y_pred) - np.log1p(y_true)  # Note: log1p(x) = log(1 + x)\n",
    "    return np.mean(log_error ** 2) ** 0.5"
   ]
  },
  {
   "cell_type": "code",
   "execution_count": null,
   "metadata": {},
   "outputs": [],
   "source": [
    "apartments = pd.read_csv('apartments_train.csv')\n",
    "print(f'Loaded {len(apartments)} apartments')\n",
    "with open('apartments_meta.json') as f: \n",
    "    apartments_meta = json.load(f)\n",
    "describe_data(apartments, apartments_meta)"
   ]
  },
  {
   "cell_type": "code",
   "execution_count": null,
   "metadata": {},
   "outputs": [],
   "source": [
    "buildings = pd.read_csv('buildings_train.csv')\n",
    "print(f'Loaded {len(buildings)} buildings')\n",
    "with open('buildings_meta.json') as f: \n",
    "    buildings_meta = json.load(f)\n",
    "buildings.head()\n",
    "describe_data(buildings, buildings_meta)"
   ]
  },
  {
   "cell_type": "code",
   "execution_count": 11,
   "metadata": {},
   "outputs": [
    {
     "data": {
      "text/plain": [
       "(23285, 19)"
      ]
     },
     "execution_count": 11,
     "metadata": {},
     "output_type": "execute_result"
    }
   ],
   "source": [
    "apartments.head()\n",
    "apartments.shape"
   ]
  },
  {
   "cell_type": "code",
   "execution_count": 12,
   "metadata": {},
   "outputs": [
    {
     "data": {
      "text/plain": [
       "(6791, 16)"
      ]
     },
     "execution_count": 12,
     "metadata": {},
     "output_type": "execute_result"
    }
   ],
   "source": [
    "buildings.head()\n",
    "buildings.shape"
   ]
  },
  {
   "cell_type": "code",
   "execution_count": 13,
   "metadata": {},
   "outputs": [
    {
     "name": "stdout",
     "output_type": "stream",
     "text": [
      "All apartments have an associated building: True\n"
     ]
    },
    {
     "data": {
      "text/html": [
       "<div>\n",
       "<style scoped>\n",
       "    .dataframe tbody tr th:only-of-type {\n",
       "        vertical-align: middle;\n",
       "    }\n",
       "\n",
       "    .dataframe tbody tr th {\n",
       "        vertical-align: top;\n",
       "    }\n",
       "\n",
       "    .dataframe thead th {\n",
       "        text-align: right;\n",
       "    }\n",
       "</style>\n",
       "<table border=\"1\" class=\"dataframe\">\n",
       "  <thead>\n",
       "    <tr style=\"text-align: right;\">\n",
       "      <th></th>\n",
       "      <th>id</th>\n",
       "      <th>seller</th>\n",
       "      <th>price</th>\n",
       "      <th>area_total</th>\n",
       "      <th>area_kitchen</th>\n",
       "      <th>area_living</th>\n",
       "      <th>floor</th>\n",
       "      <th>rooms</th>\n",
       "      <th>layout</th>\n",
       "      <th>ceiling</th>\n",
       "      <th>...</th>\n",
       "      <th>address</th>\n",
       "      <th>constructed</th>\n",
       "      <th>material</th>\n",
       "      <th>stories</th>\n",
       "      <th>elevator_without</th>\n",
       "      <th>elevator_passenger</th>\n",
       "      <th>elevator_service</th>\n",
       "      <th>parking</th>\n",
       "      <th>garbage_chute</th>\n",
       "      <th>heating</th>\n",
       "    </tr>\n",
       "  </thead>\n",
       "  <tbody>\n",
       "    <tr>\n",
       "      <th>0</th>\n",
       "      <td>0</td>\n",
       "      <td>3.0</td>\n",
       "      <td>7139520.0</td>\n",
       "      <td>59.2</td>\n",
       "      <td>12.5</td>\n",
       "      <td>31.0</td>\n",
       "      <td>2.0</td>\n",
       "      <td>2.0</td>\n",
       "      <td>NaN</td>\n",
       "      <td>2.65</td>\n",
       "      <td>...</td>\n",
       "      <td>к2.5/2</td>\n",
       "      <td>2021.0</td>\n",
       "      <td>3.0</td>\n",
       "      <td>9.0</td>\n",
       "      <td>0.0</td>\n",
       "      <td>1.0</td>\n",
       "      <td>1.0</td>\n",
       "      <td>1.0</td>\n",
       "      <td>NaN</td>\n",
       "      <td>NaN</td>\n",
       "    </tr>\n",
       "    <tr>\n",
       "      <th>1</th>\n",
       "      <td>1</td>\n",
       "      <td>NaN</td>\n",
       "      <td>10500000.0</td>\n",
       "      <td>88.0</td>\n",
       "      <td>14.2</td>\n",
       "      <td>48.0</td>\n",
       "      <td>18.0</td>\n",
       "      <td>3.0</td>\n",
       "      <td>1.0</td>\n",
       "      <td>NaN</td>\n",
       "      <td>...</td>\n",
       "      <td>14к3</td>\n",
       "      <td>2010.0</td>\n",
       "      <td>3.0</td>\n",
       "      <td>25.0</td>\n",
       "      <td>0.0</td>\n",
       "      <td>1.0</td>\n",
       "      <td>1.0</td>\n",
       "      <td>1.0</td>\n",
       "      <td>NaN</td>\n",
       "      <td>0.0</td>\n",
       "    </tr>\n",
       "    <tr>\n",
       "      <th>2</th>\n",
       "      <td>2</td>\n",
       "      <td>3.0</td>\n",
       "      <td>9019650.0</td>\n",
       "      <td>78.5</td>\n",
       "      <td>22.5</td>\n",
       "      <td>40.8</td>\n",
       "      <td>12.0</td>\n",
       "      <td>3.0</td>\n",
       "      <td>NaN</td>\n",
       "      <td>2.65</td>\n",
       "      <td>...</td>\n",
       "      <td>38</td>\n",
       "      <td>2021.0</td>\n",
       "      <td>3.0</td>\n",
       "      <td>15.0</td>\n",
       "      <td>0.0</td>\n",
       "      <td>1.0</td>\n",
       "      <td>1.0</td>\n",
       "      <td>1.0</td>\n",
       "      <td>NaN</td>\n",
       "      <td>NaN</td>\n",
       "    </tr>\n",
       "    <tr>\n",
       "      <th>3</th>\n",
       "      <td>3</td>\n",
       "      <td>NaN</td>\n",
       "      <td>10500000.0</td>\n",
       "      <td>88.0</td>\n",
       "      <td>14.0</td>\n",
       "      <td>48.0</td>\n",
       "      <td>18.0</td>\n",
       "      <td>3.0</td>\n",
       "      <td>NaN</td>\n",
       "      <td>NaN</td>\n",
       "      <td>...</td>\n",
       "      <td>14к3</td>\n",
       "      <td>2010.0</td>\n",
       "      <td>3.0</td>\n",
       "      <td>25.0</td>\n",
       "      <td>0.0</td>\n",
       "      <td>1.0</td>\n",
       "      <td>1.0</td>\n",
       "      <td>1.0</td>\n",
       "      <td>NaN</td>\n",
       "      <td>0.0</td>\n",
       "    </tr>\n",
       "    <tr>\n",
       "      <th>4</th>\n",
       "      <td>4</td>\n",
       "      <td>NaN</td>\n",
       "      <td>13900000.0</td>\n",
       "      <td>78.0</td>\n",
       "      <td>17.0</td>\n",
       "      <td>35.0</td>\n",
       "      <td>7.0</td>\n",
       "      <td>2.0</td>\n",
       "      <td>1.0</td>\n",
       "      <td>2.90</td>\n",
       "      <td>...</td>\n",
       "      <td>1к3</td>\n",
       "      <td>2017.0</td>\n",
       "      <td>2.0</td>\n",
       "      <td>15.0</td>\n",
       "      <td>0.0</td>\n",
       "      <td>1.0</td>\n",
       "      <td>1.0</td>\n",
       "      <td>1.0</td>\n",
       "      <td>0.0</td>\n",
       "      <td>0.0</td>\n",
       "    </tr>\n",
       "  </tbody>\n",
       "</table>\n",
       "<p>5 rows × 34 columns</p>\n",
       "</div>"
      ],
      "text/plain": [
       "   id  seller       price  area_total  area_kitchen  area_living  floor  \\\n",
       "0   0     3.0   7139520.0        59.2          12.5         31.0    2.0   \n",
       "1   1     NaN  10500000.0        88.0          14.2         48.0   18.0   \n",
       "2   2     3.0   9019650.0        78.5          22.5         40.8   12.0   \n",
       "3   3     NaN  10500000.0        88.0          14.0         48.0   18.0   \n",
       "4   4     NaN  13900000.0        78.0          17.0         35.0    7.0   \n",
       "\n",
       "   rooms  layout  ceiling  ...  address  constructed  material  stories  \\\n",
       "0    2.0     NaN     2.65  ...   к2.5/2       2021.0       3.0      9.0   \n",
       "1    3.0     1.0      NaN  ...     14к3       2010.0       3.0     25.0   \n",
       "2    3.0     NaN     2.65  ...       38       2021.0       3.0     15.0   \n",
       "3    3.0     NaN      NaN  ...     14к3       2010.0       3.0     25.0   \n",
       "4    2.0     1.0     2.90  ...      1к3       2017.0       2.0     15.0   \n",
       "\n",
       "   elevator_without  elevator_passenger  elevator_service  parking  \\\n",
       "0               0.0                 1.0               1.0      1.0   \n",
       "1               0.0                 1.0               1.0      1.0   \n",
       "2               0.0                 1.0               1.0      1.0   \n",
       "3               0.0                 1.0               1.0      1.0   \n",
       "4               0.0                 1.0               1.0      1.0   \n",
       "\n",
       "   garbage_chute  heating  \n",
       "0            NaN      NaN  \n",
       "1            NaN      0.0  \n",
       "2            NaN      NaN  \n",
       "3            NaN      0.0  \n",
       "4            0.0      0.0  \n",
       "\n",
       "[5 rows x 34 columns]"
      ]
     },
     "execution_count": 13,
     "metadata": {},
     "output_type": "execute_result"
    }
   ],
   "source": [
    "print(f'All apartments have an associated building: {apartments.building_id.isin(buildings.id).all()}')\n",
    "data = pd.merge(apartments, buildings.set_index('id'), how='left', left_on='building_id', right_index=True)\n",
    "data.head()"
   ]
  },
  {
   "cell_type": "code",
   "execution_count": 14,
   "metadata": {},
   "outputs": [
    {
     "data": {
      "text/plain": [
       "(23285, 34)"
      ]
     },
     "execution_count": 14,
     "metadata": {},
     "output_type": "execute_result"
    }
   ],
   "source": [
    "data.shape"
   ]
  },
  {
   "cell_type": "code",
   "execution_count": 22,
   "metadata": {},
   "outputs": [
    {
     "name": "stdout",
     "output_type": "stream",
     "text": [
      "All test apartments have an associated building: True\n",
      "Number of train samples: 23285\n",
      "Number of test samples:  9937\n"
     ]
    },
    {
     "data": {
      "text/html": [
       "<div>\n",
       "<style scoped>\n",
       "    .dataframe tbody tr th:only-of-type {\n",
       "        vertical-align: middle;\n",
       "    }\n",
       "\n",
       "    .dataframe tbody tr th {\n",
       "        vertical-align: top;\n",
       "    }\n",
       "\n",
       "    .dataframe thead th {\n",
       "        text-align: right;\n",
       "    }\n",
       "</style>\n",
       "<table border=\"1\" class=\"dataframe\">\n",
       "  <thead>\n",
       "    <tr style=\"text-align: right;\">\n",
       "      <th></th>\n",
       "      <th>id</th>\n",
       "      <th>seller</th>\n",
       "      <th>area_total</th>\n",
       "      <th>area_kitchen</th>\n",
       "      <th>area_living</th>\n",
       "      <th>floor</th>\n",
       "      <th>rooms</th>\n",
       "      <th>layout</th>\n",
       "      <th>ceiling</th>\n",
       "      <th>bathrooms_shared</th>\n",
       "      <th>...</th>\n",
       "      <th>address</th>\n",
       "      <th>constructed</th>\n",
       "      <th>material</th>\n",
       "      <th>stories</th>\n",
       "      <th>elevator_without</th>\n",
       "      <th>elevator_passenger</th>\n",
       "      <th>elevator_service</th>\n",
       "      <th>parking</th>\n",
       "      <th>garbage_chute</th>\n",
       "      <th>heating</th>\n",
       "    </tr>\n",
       "  </thead>\n",
       "  <tbody>\n",
       "    <tr>\n",
       "      <th>0</th>\n",
       "      <td>23285</td>\n",
       "      <td>NaN</td>\n",
       "      <td>71.4</td>\n",
       "      <td>NaN</td>\n",
       "      <td>NaN</td>\n",
       "      <td>2.0</td>\n",
       "      <td>1.0</td>\n",
       "      <td>NaN</td>\n",
       "      <td>NaN</td>\n",
       "      <td>NaN</td>\n",
       "      <td>...</td>\n",
       "      <td>6к3</td>\n",
       "      <td>2017.0</td>\n",
       "      <td>2.0</td>\n",
       "      <td>20.0</td>\n",
       "      <td>1.0</td>\n",
       "      <td>1.0</td>\n",
       "      <td>1.0</td>\n",
       "      <td>NaN</td>\n",
       "      <td>1.0</td>\n",
       "      <td>0.0</td>\n",
       "    </tr>\n",
       "    <tr>\n",
       "      <th>1</th>\n",
       "      <td>23286</td>\n",
       "      <td>NaN</td>\n",
       "      <td>54.0</td>\n",
       "      <td>4.0</td>\n",
       "      <td>50.0</td>\n",
       "      <td>4.0</td>\n",
       "      <td>1.0</td>\n",
       "      <td>NaN</td>\n",
       "      <td>3.00</td>\n",
       "      <td>NaN</td>\n",
       "      <td>...</td>\n",
       "      <td>3к2</td>\n",
       "      <td>2017.0</td>\n",
       "      <td>2.0</td>\n",
       "      <td>15.0</td>\n",
       "      <td>0.0</td>\n",
       "      <td>1.0</td>\n",
       "      <td>1.0</td>\n",
       "      <td>0.0</td>\n",
       "      <td>0.0</td>\n",
       "      <td>0.0</td>\n",
       "    </tr>\n",
       "    <tr>\n",
       "      <th>2</th>\n",
       "      <td>23287</td>\n",
       "      <td>3.0</td>\n",
       "      <td>39.4</td>\n",
       "      <td>19.6</td>\n",
       "      <td>11.2</td>\n",
       "      <td>10.0</td>\n",
       "      <td>1.0</td>\n",
       "      <td>NaN</td>\n",
       "      <td>2.65</td>\n",
       "      <td>1.0</td>\n",
       "      <td>...</td>\n",
       "      <td>27</td>\n",
       "      <td>2021.0</td>\n",
       "      <td>3.0</td>\n",
       "      <td>9.0</td>\n",
       "      <td>0.0</td>\n",
       "      <td>1.0</td>\n",
       "      <td>1.0</td>\n",
       "      <td>1.0</td>\n",
       "      <td>NaN</td>\n",
       "      <td>NaN</td>\n",
       "    </tr>\n",
       "    <tr>\n",
       "      <th>3</th>\n",
       "      <td>23288</td>\n",
       "      <td>NaN</td>\n",
       "      <td>60.9</td>\n",
       "      <td>NaN</td>\n",
       "      <td>NaN</td>\n",
       "      <td>5.0</td>\n",
       "      <td>2.0</td>\n",
       "      <td>1.0</td>\n",
       "      <td>NaN</td>\n",
       "      <td>1.0</td>\n",
       "      <td>...</td>\n",
       "      <td>23</td>\n",
       "      <td>2014.0</td>\n",
       "      <td>2.0</td>\n",
       "      <td>17.0</td>\n",
       "      <td>1.0</td>\n",
       "      <td>1.0</td>\n",
       "      <td>0.0</td>\n",
       "      <td>NaN</td>\n",
       "      <td>1.0</td>\n",
       "      <td>3.0</td>\n",
       "    </tr>\n",
       "    <tr>\n",
       "      <th>4</th>\n",
       "      <td>23289</td>\n",
       "      <td>NaN</td>\n",
       "      <td>34.0</td>\n",
       "      <td>9.0</td>\n",
       "      <td>17.0</td>\n",
       "      <td>14.0</td>\n",
       "      <td>1.0</td>\n",
       "      <td>NaN</td>\n",
       "      <td>2.75</td>\n",
       "      <td>1.0</td>\n",
       "      <td>...</td>\n",
       "      <td>13к1</td>\n",
       "      <td>2016.0</td>\n",
       "      <td>2.0</td>\n",
       "      <td>17.0</td>\n",
       "      <td>0.0</td>\n",
       "      <td>1.0</td>\n",
       "      <td>1.0</td>\n",
       "      <td>NaN</td>\n",
       "      <td>1.0</td>\n",
       "      <td>0.0</td>\n",
       "    </tr>\n",
       "  </tbody>\n",
       "</table>\n",
       "<p>5 rows × 33 columns</p>\n",
       "</div>"
      ],
      "text/plain": [
       "      id  seller  area_total  area_kitchen  area_living  floor  rooms  layout  \\\n",
       "0  23285     NaN        71.4           NaN          NaN    2.0    1.0     NaN   \n",
       "1  23286     NaN        54.0           4.0         50.0    4.0    1.0     NaN   \n",
       "2  23287     3.0        39.4          19.6         11.2   10.0    1.0     NaN   \n",
       "3  23288     NaN        60.9           NaN          NaN    5.0    2.0     1.0   \n",
       "4  23289     NaN        34.0           9.0         17.0   14.0    1.0     NaN   \n",
       "\n",
       "   ceiling  bathrooms_shared  ...  address  constructed  material  stories  \\\n",
       "0      NaN               NaN  ...      6к3       2017.0       2.0     20.0   \n",
       "1     3.00               NaN  ...      3к2       2017.0       2.0     15.0   \n",
       "2     2.65               1.0  ...       27       2021.0       3.0      9.0   \n",
       "3      NaN               1.0  ...       23       2014.0       2.0     17.0   \n",
       "4     2.75               1.0  ...     13к1       2016.0       2.0     17.0   \n",
       "\n",
       "   elevator_without  elevator_passenger  elevator_service  parking  \\\n",
       "0               1.0                 1.0               1.0      NaN   \n",
       "1               0.0                 1.0               1.0      0.0   \n",
       "2               0.0                 1.0               1.0      1.0   \n",
       "3               1.0                 1.0               0.0      NaN   \n",
       "4               0.0                 1.0               1.0      NaN   \n",
       "\n",
       "   garbage_chute  heating  \n",
       "0            1.0      0.0  \n",
       "1            0.0      0.0  \n",
       "2            NaN      NaN  \n",
       "3            1.0      3.0  \n",
       "4            1.0      0.0  \n",
       "\n",
       "[5 rows x 33 columns]"
      ]
     },
     "execution_count": 22,
     "metadata": {},
     "output_type": "execute_result"
    }
   ],
   "source": [
    "apartments_test = pd.read_csv('apartments_test.csv')\n",
    "buildings_test = pd.read_csv('buildings_test.csv')\n",
    "print(f'All test apartments have an associated building: {apartments_test.building_id.isin(buildings_test.id).all()}')\n",
    "data_test = pd.merge(apartments_test, buildings_test.set_index('id'), how='left', left_on='building_id', right_index=True)\n",
    "print(f'Number of train samples: {len(data)}')\n",
    "print(f'Number of test samples:  {len(data_test)}')\n",
    "data_test.head()"
   ]
  },
  {
   "cell_type": "markdown",
   "metadata": {},
   "source": [
    " # Duplicated values"
   ]
  },
  {
   "cell_type": "code",
   "execution_count": 18,
   "metadata": {},
   "outputs": [
    {
     "data": {
      "text/plain": [
       "0        False\n",
       "1        False\n",
       "2        False\n",
       "3        False\n",
       "4        False\n",
       "         ...  \n",
       "23280    False\n",
       "23281    False\n",
       "23282    False\n",
       "23283    False\n",
       "23284    False\n",
       "Length: 23285, dtype: bool"
      ]
     },
     "execution_count": 18,
     "metadata": {},
     "output_type": "execute_result"
    }
   ],
   "source": [
    "#detect the possible duplicated values inside our dataset and delete them in the case (by comparing the shape before and then):\n",
    "\n",
    "data.duplicated()"
   ]
  },
  {
   "cell_type": "code",
   "execution_count": 20,
   "metadata": {},
   "outputs": [
    {
     "name": "stdout",
     "output_type": "stream",
     "text": [
      "(23285, 34)\n",
      "(23285, 34)\n"
     ]
    }
   ],
   "source": [
    "print(data.shape)\n",
    "data.drop_duplicates(inplace=True)\n",
    "print(data.shape)\n",
    "\n",
    "#same shape --> there weren't duplicated values inside the dataset."
   ]
  },
  {
   "cell_type": "code",
   "execution_count": 19,
   "metadata": {},
   "outputs": [
    {
     "data": {
      "text/plain": [
       "0       False\n",
       "1       False\n",
       "2       False\n",
       "3       False\n",
       "4       False\n",
       "        ...  \n",
       "9932    False\n",
       "9933    False\n",
       "9934    False\n",
       "9935    False\n",
       "9936    False\n",
       "Length: 9937, dtype: bool"
      ]
     },
     "execution_count": 19,
     "metadata": {},
     "output_type": "execute_result"
    }
   ],
   "source": [
    "data_test.duplicated()"
   ]
  },
  {
   "cell_type": "code",
   "execution_count": 21,
   "metadata": {},
   "outputs": [
    {
     "name": "stdout",
     "output_type": "stream",
     "text": [
      "(9937, 33)\n",
      "(9937, 33)\n"
     ]
    }
   ],
   "source": [
    "print(data_test.shape)\n",
    "data_test.drop_duplicates(inplace=True)\n",
    "print(data_test.shape)\n",
    "\n",
    "#same shape --> there weren't duplicated values inside the dataset."
   ]
  },
  {
   "cell_type": "markdown",
   "metadata": {},
   "source": [
    "# Missing values"
   ]
  },
  {
   "cell_type": "code",
   "execution_count": 43,
   "metadata": {},
   "outputs": [
    {
     "data": {
      "text/plain": [
       "0     11.0\n",
       "1      2.0\n",
       "2      6.0\n",
       "3      2.0\n",
       "4     11.0\n",
       "5      NaN\n",
       "6     11.0\n",
       "7      2.0\n",
       "8     11.0\n",
       "9     11.0\n",
       "10    11.0\n",
       "11    11.0\n",
       "12    11.0\n",
       "13    11.0\n",
       "14    11.0\n",
       "Name: district, dtype: float64"
      ]
     },
     "execution_count": 43,
     "metadata": {},
     "output_type": "execute_result"
    }
   ],
   "source": [
    "data[\"district\"].head(15)"
   ]
  },
  {
   "cell_type": "code",
   "execution_count": 42,
   "metadata": {},
   "outputs": [
    {
     "name": "stdout",
     "output_type": "stream",
     "text": [
      "bathrooms_shared\n",
      "0.0       0.0\n",
      "1.0    8111.0\n",
      "2.0    4734.0\n",
      "3.0    1065.0\n",
      "4.0     408.0\n",
      "Name: bathrooms_shared, dtype: float64\n"
     ]
    }
   ],
   "source": [
    "prova = data.groupby('bathrooms_shared')['bathrooms_shared'].sum()\n",
    "print(prova)"
   ]
  },
  {
   "cell_type": "code",
   "execution_count": 23,
   "metadata": {},
   "outputs": [
    {
     "data": {
      "text/plain": [
       "id                        0\n",
       "seller                 8830\n",
       "price                     0\n",
       "area_total                0\n",
       "area_kitchen           4721\n",
       "area_living            3882\n",
       "floor                     0\n",
       "rooms                     0\n",
       "layout                17642\n",
       "ceiling               11093\n",
       "bathrooms_shared       3872\n",
       "bathrooms_private      3872\n",
       "windows_court          8072\n",
       "windows_street         8072\n",
       "balconies             10520\n",
       "loggias               10520\n",
       "condition              9810\n",
       "phones                   80\n",
       "building_id               0\n",
       "new                     264\n",
       "latitude                  0\n",
       "longitude                 0\n",
       "district                130\n",
       "street                    0\n",
       "address                   0\n",
       "constructed             794\n",
       "material               3972\n",
       "stories                   0\n",
       "elevator_without        357\n",
       "elevator_passenger      357\n",
       "elevator_service        357\n",
       "parking                6788\n",
       "garbage_chute          8811\n",
       "heating                8161\n",
       "dtype: int64"
      ]
     },
     "execution_count": 23,
     "metadata": {},
     "output_type": "execute_result"
    }
   ],
   "source": [
    "#detect if there are some missing values:\n",
    "\n",
    "data.isnull().sum()\n",
    "\n",
    "#there are a lot of missing values --> need to understand how to handle it"
   ]
  },
  {
   "cell_type": "code",
   "execution_count": 25,
   "metadata": {},
   "outputs": [
    {
     "data": {
      "text/plain": [
       "id                       0\n",
       "seller                3942\n",
       "area_total               0\n",
       "area_kitchen          2233\n",
       "area_living           2019\n",
       "floor                    0\n",
       "rooms                    0\n",
       "layout                7368\n",
       "ceiling               5018\n",
       "bathrooms_shared      1717\n",
       "bathrooms_private     1717\n",
       "windows_court         3488\n",
       "windows_street        3488\n",
       "balconies             4835\n",
       "loggias               4835\n",
       "condition             3959\n",
       "phones                  40\n",
       "building_id              0\n",
       "new                    109\n",
       "latitude                 2\n",
       "longitude                2\n",
       "district                25\n",
       "street                   0\n",
       "address                  0\n",
       "constructed            374\n",
       "material              1671\n",
       "stories                  0\n",
       "elevator_without       180\n",
       "elevator_passenger     180\n",
       "elevator_service       180\n",
       "parking               2867\n",
       "garbage_chute         3426\n",
       "heating               3230\n",
       "dtype: int64"
      ]
     },
     "execution_count": 25,
     "metadata": {},
     "output_type": "execute_result"
    }
   ],
   "source": [
    "#detect if there are some missing values:\n",
    "\n",
    "data_test.isnull().sum()\n",
    "\n",
    "#there are a lot of missing values --> need to understand how to handle it"
   ]
  },
  {
   "cell_type": "code",
   "execution_count": 33,
   "metadata": {},
   "outputs": [],
   "source": [
    "#sostituisco i NaN con il valore medio dei vicini (ho però il problema che non so se il NaN corrisponde alla mancanza del valore\n",
    "#oppure alla mancanza dell'elemento considerato nell'appartamento, ma mi sembra strano che non ci sia una cucina o living room \n",
    "#figa, magari la soffitta già più probabile che non ci sia)\n",
    "imputer = KNNImputer(n_neighbors=10)\n",
    "data[\"area_kitchen\"] = imputer.fit_transform(data[[\"area_kitchen\"]]).ravel()\n",
    "data[\"area_living\"] = imputer.fit_transform(data[[\"area_living\"]]).ravel()\n",
    "data[\"ceiling\"] = imputer.fit_transform(data[[\"ceiling\"]]).ravel()"
   ]
  },
  {
   "cell_type": "code",
   "execution_count": 34,
   "metadata": {},
   "outputs": [
    {
     "data": {
      "text/plain": [
       "id                        0\n",
       "seller                 8830\n",
       "price                     0\n",
       "area_total                0\n",
       "area_kitchen              0\n",
       "area_living            3882\n",
       "floor                     0\n",
       "rooms                     0\n",
       "layout                17642\n",
       "ceiling               11093\n",
       "bathrooms_shared       3872\n",
       "bathrooms_private      3872\n",
       "windows_court          8072\n",
       "windows_street         8072\n",
       "balconies             10520\n",
       "loggias               10520\n",
       "condition              9810\n",
       "phones                   80\n",
       "building_id               0\n",
       "new                     264\n",
       "latitude                  0\n",
       "longitude                 0\n",
       "district                130\n",
       "street                    0\n",
       "address                   0\n",
       "constructed             794\n",
       "material               3972\n",
       "stories                   0\n",
       "elevator_without        357\n",
       "elevator_passenger      357\n",
       "elevator_service        357\n",
       "parking                6788\n",
       "garbage_chute          8811\n",
       "heating                8161\n",
       "dtype: int64"
      ]
     },
     "execution_count": 34,
     "metadata": {},
     "output_type": "execute_result"
    }
   ],
   "source": []
  },
  {
   "cell_type": "code",
   "execution_count": null,
   "metadata": {},
   "outputs": [],
   "source": []
  }
 ],
 "metadata": {
  "kernelspec": {
   "display_name": "Python 3",
   "language": "python",
   "name": "python3"
  },
  "language_info": {
   "codemirror_mode": {
    "name": "ipython",
    "version": 3
   },
   "file_extension": ".py",
   "mimetype": "text/x-python",
   "name": "python",
   "nbconvert_exporter": "python",
   "pygments_lexer": "ipython3",
   "version": "3.8.3"
  }
 },
 "nbformat": 4,
 "nbformat_minor": 4
}
